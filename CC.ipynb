{
  "nbformat": 4,
  "nbformat_minor": 0,
  "metadata": {
    "colab": {
      "name": "CC.ipynb",
      "provenance": [],
      "authorship_tag": "ABX9TyN4HeRdegklYhTCIgfaIL/x",
      "include_colab_link": true
    },
    "kernelspec": {
      "name": "python3",
      "display_name": "Python 3"
    }
  },
  "cells": [
    {
      "cell_type": "markdown",
      "metadata": {
        "id": "view-in-github",
        "colab_type": "text"
      },
      "source": [
        "<a href=\"https://colab.research.google.com/github/avinashganguri/Python-ICP6/blob/master/CC.ipynb\" target=\"_parent\"><img src=\"https://colab.research.google.com/assets/colab-badge.svg\" alt=\"Open In Colab\"/></a>"
      ]
    },
    {
      "cell_type": "code",
      "metadata": {
        "id": "TKPgvCJO4w2o",
        "colab_type": "code",
        "colab": {}
      },
      "source": [
        "import pandas as pd\n",
        "from sklearn.decomposition import PCA\n",
        "from sklearn.preprocessing import LabelEncoder, StandardScaler\n",
        "import matplotlib.pyplot as plt\n",
        "from sklearn.cluster import KMeans\n",
        "import seaborn as sns\n",
        "from sklearn import preprocessing"
      ],
      "execution_count": 0,
      "outputs": []
    },
    {
      "cell_type": "code",
      "metadata": {
        "id": "9RVjMjuB5dnC",
        "colab_type": "code",
        "colab": {
          "base_uri": "https://localhost:8080/",
          "height": 34
        },
        "outputId": "7bf6662b-bde3-4d2a-aa31-4c40bc293dd8"
      },
      "source": [
        "from google.colab import drive\n",
        "drive.mount('/content/drive/')"
      ],
      "execution_count": 3,
      "outputs": [
        {
          "output_type": "stream",
          "text": [
            "Drive already mounted at /content/drive/; to attempt to forcibly remount, call drive.mount(\"/content/drive/\", force_remount=True).\n"
          ],
          "name": "stdout"
        }
      ]
    },
    {
      "cell_type": "code",
      "metadata": {
        "id": "HGteWshk5o-R",
        "colab_type": "code",
        "colab": {}
      },
      "source": [
        "sns.set(style=\"white\", color_codes=True)\n",
        "import warnings\n",
        "warnings.filterwarnings(\"ignore\")\n",
        "\n",
        "dataset = pd.read_csv('drive/My Drive/Colab Notebooks/iris/Python_Lesson6/CC.csv', index_col=0)"
      ],
      "execution_count": 0,
      "outputs": []
    },
    {
      "cell_type": "code",
      "metadata": {
        "id": "6oucFrlcAP85",
        "colab_type": "code",
        "colab": {
          "base_uri": "https://localhost:8080/",
          "height": 301
        },
        "outputId": "e4242c5e-e899-4cdc-894c-f3c5e8f61ed8"
      },
      "source": [
        "\n",
        "dataset.isna().sum()\n",
        "dataset.fillna(dataset.mean(),inplace=True)\n",
        "dataset.isna().sum()\n",
        "\n",
        "X = dataset.iloc[:,1:]\n",
        "Y = dataset.iloc[:,-1]\n",
        "\n",
        "from sklearn.cluster import KMeans\n",
        "wcss=[]\n",
        "for i in range(1,11):\n",
        "    kmeans= KMeans(n_clusters=i,init='k-means++',max_iter=300,n_init=10,random_state=0)\n",
        "    kmeans.fit(X)\n",
        "    wcss.append(kmeans.inertia_)\n",
        "plt.plot(range(1,11),wcss)\n",
        "plt.title('the elbow method')\n",
        "plt.xlabel('Number of Clusters')\n",
        "plt.ylabel('Wcss')\n",
        "plt.grid(b=True, which='major', color='RED', linestyle='-')\n",
        "plt.show()"
      ],
      "execution_count": 17,
      "outputs": [
        {
          "output_type": "display_data",
          "data": {
            "image/png": "[encoded data removed]",
            "text/plain": [
              "<Figure size 432x288 with 1 Axes>"
            ]
          },
          "metadata": {
            "tags": []
          }
        }
      ]
    },
    {
      "cell_type": "code",
      "metadata": {
        "id": "8H4nZgd2BYUF",
        "colab_type": "code",
        "colab": {
          "base_uri": "https://localhost:8080/",
          "height": 34
        },
        "outputId": "5feec224-7283-4908-c55d-af9f7d8d2fb5"
      },
      "source": [
        "\n",
        "##building the model\n",
        "from sklearn.cluster import KMeans\n",
        "nclusters = 3 # this is the k in kmeans\n",
        "km = KMeans(n_clusters=nclusters)\n",
        "km.fit(X)\n",
        "\n",
        "# predict the cluster for each data point\n",
        "y_cluster_kmeans = km.predict(X)\n",
        "from sklearn import metrics\n",
        "score = metrics.silhouette_score(X, y_cluster_kmeans)\n",
        "print(score)"
      ],
      "execution_count": 36,
      "outputs": [
        {
          "output_type": "stream",
          "text": [
            "0.46405331813103895\n"
          ],
          "name": "stdout"
        }
      ]
    },
    {
      "cell_type": "code",
      "metadata": {
        "id": "WaVzu0RDFiqS",
        "colab_type": "code",
        "colab": {}
      },
      "source": [
        "scaler =preprocessing.StandardScaler() \n",
        "scaler.fit(X)\n",
        "X_scaled_array=scaler.transform(X)\n",
        "X_scaled=pd.DataFrame(X_scaled_array, columns =X.columns) "
      ],
      "execution_count": 0,
      "outputs": []
    },
    {
      "cell_type": "code",
      "metadata": {
        "id": "DWsDI1ahG9op",
        "colab_type": "code",
        "colab": {
          "base_uri": "https://localhost:8080/",
          "height": 34
        },
        "outputId": "df63f090-199f-4309-dc58-9db9eba791eb"
      },
      "source": [
        "nclusters=3# this is the k in kmeans\n",
        "seed =0\n",
        "km =KMeans(n_clusters=nclusters, random_state=seed)\n",
        "km.fit(X_scaled) # predict the cluster for each data point\n",
        "y_cluster_kmeans=km.predict(X_scaled)\n",
        "score = metrics.silhouette_score(X_scaled, y_cluster_kmeans)\n",
        "print(score)\n"
      ],
      "execution_count": 32,
      "outputs": [
        {
          "output_type": "stream",
          "text": [
            "0.19848932710754305\n"
          ],
          "name": "stdout"
        }
      ]
    },
    {
      "cell_type": "code",
      "metadata": {
        "id": "i4MLQS2qIk8C",
        "colab_type": "code",
        "colab": {}
      },
      "source": [
        "pca= PCA(2)s\n",
        "X_pca= pca.fit_transform(X_scaled)"
      ],
      "execution_count": 0,
      "outputs": []
    },
    {
      "cell_type": "code",
      "metadata": {
        "id": "8FGh_-2ZI2Ws",
        "colab_type": "code",
        "colab": {
          "base_uri": "https://localhost:8080/",
          "height": 34
        },
        "outputId": "8cc0a603-69ac-4b5d-fb12-4a3e0292f3ce"
      },
      "source": [
        "nclusters=3# this is the k in kmeans\n",
        "seed =0\n",
        "km =KMeans(n_clusters=nclusters, random_state=seed)\n",
        "km.fit(X_pca) # predict the cluster for each data point\n",
        "y_cluster_kmeans=km.predict(X_pca)\n",
        "score = metrics.silhouette_score(X_pca, y_cluster_kmeans)\n",
        "print(score)"
      ],
      "execution_count": 37,
      "outputs": [
        {
          "output_type": "stream",
          "text": [
            "0.4363878107304869\n"
          ],
          "name": "stdout"
        }
      ]
    }
  ]
}